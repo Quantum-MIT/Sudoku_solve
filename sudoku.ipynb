{
 "cells": [
  {
   "cell_type": "code",
   "execution_count": 44,
   "metadata": {},
   "outputs": [
    {
     "data": {
      "text/plain": [
       "7"
      ]
     },
     "execution_count": 44,
     "metadata": {},
     "output_type": "execute_result"
    }
   ],
   "source": [
    "3+4"
   ]
  },
  {
   "cell_type": "code",
   "execution_count": 45,
   "metadata": {},
   "outputs": [],
   "source": [
    "sudoku = [[5,3,0,0,7,0,0,0,0],[6,0,0,1,9,5,0,0,0],[0,9,8,0,0,0,0,6,0],[8,0,0,0,6,0,4,2,3],[4,0,0,8,0,3,0,0,1],[7,0,0,0,2,0,0,0,6],[0,6,0,0,0,0,2,8,0],[0,0,0,4,1,9,0,0,5],[0,0,0,0,8,0,0,7,9]]"
   ]
  },
  {
   "cell_type": "code",
   "execution_count": 46,
   "metadata": {},
   "outputs": [],
   "source": [
    "def get_block_num(sudoku,pos):\n",
    "    row_jump = pos[0]//3\n",
    "    row_rem = pos[0]%3\n",
    "    col_jump = pos[1]//3\n",
    "    col_rem = pos[1]%3\n",
    "    return (row_jump-1)*3 + (3)*int(row_rem!=0) + (col_jump) + int(col_rem!=0)"
   ]
  },
  {
   "cell_type": "code",
   "execution_count": 47,
   "metadata": {},
   "outputs": [],
   "source": [
    "def get_pos_inside_block(sudoku,pos):\n",
    "    num = get_block_num(sudoku,pos)\n",
    "    if num%3==0:\n",
    "        if pos[0]%3 ==0:\n",
    "            return pos[1]\n",
    "        else:\n",
    "            (pos[0] - (pos[0]//3)*3 - 1)*3 + pos[1] - 6\n",
    "    else:\n",
    "        if pos[0]%3 ==0:\n",
    "            return 6 + pos[1] - (num%3 - 1)*3\n",
    "        else:\n",
    "            return (pos[0] - (pos[0]//3)*3 - 1)*3 + pos[1] - (num%3 - 1)*3 "
   ]
  },
  {
   "cell_type": "code",
   "execution_count": 48,
   "metadata": {},
   "outputs": [],
   "source": [
    "def get_block(sudoku,x):\n",
    "    list1=[]\n",
    "    for i in range(1,10):\n",
    "        for j in range(1,10):\n",
    "            if (get_block_num(sudoku,(i,j))==x):\n",
    "                 list1.append(sudoku[i-1][j-1])\n",
    "    return list1"
   ]
  },
  {
   "cell_type": "code",
   "execution_count": 49,
   "metadata": {},
   "outputs": [
    {
     "data": {
      "text/plain": [
       "[0, 7, 0, 1, 9, 5, 0, 0, 0]"
      ]
     },
     "execution_count": 49,
     "metadata": {},
     "output_type": "execute_result"
    }
   ],
   "source": [
    "get_block(sudoku,2)"
   ]
  },
  {
   "cell_type": "code",
   "execution_count": 50,
   "metadata": {},
   "outputs": [],
   "source": [
    "def get_row(sudoku,x):\n",
    "    return sudoku[x-1]"
   ]
  },
  {
   "cell_type": "code",
   "execution_count": 51,
   "metadata": {},
   "outputs": [],
   "source": [
    "def get_col(sudoku,x):\n",
    "    col = []\n",
    "    for i in range(1,10):\n",
    "        col.append(sudoku[i-1][x-1])\n",
    "    return col"
   ]
  },
  {
   "cell_type": "code",
   "execution_count": 52,
   "metadata": {},
   "outputs": [],
   "source": [
    "def find_first_unassigned_position(sudoku):\n",
    "    for i in range(1,10):\n",
    "        if (0 in sudoku[i-1]):\n",
    "            return (i,sudoku[i-1].index(0)+1) \n",
    "    return (-1,-1)"
   ]
  },
  {
   "cell_type": "code",
   "execution_count": 53,
   "metadata": {},
   "outputs": [
    {
     "data": {
      "text/plain": [
       "(1, 3)"
      ]
     },
     "execution_count": 53,
     "metadata": {},
     "output_type": "execute_result"
    }
   ],
   "source": [
    "find_first_unassigned_position(sudoku)"
   ]
  },
  {
   "cell_type": "code",
   "execution_count": 54,
   "metadata": {},
   "outputs": [],
   "source": [
    "def valid_list(list):\n",
    "    for i in list:\n",
    "        if (list.count(i)>1)and(i!=0):\n",
    "            return False\n",
    "    return True"
   ]
  },
  {
   "cell_type": "code",
   "execution_count": 55,
   "metadata": {},
   "outputs": [],
   "source": [
    "def valid_sudoku(sudoku):\n",
    "    count=0\n",
    "    for i in range(1,10):\n",
    "        if valid_list(get_row(sudoku,i))==True:\n",
    "            count+=1\n",
    "        if valid_list(get_block(sudoku,i))==True:\n",
    "            count+=1\n",
    "        if valid_list(get_col(sudoku,i))==True:\n",
    "            count+=1\n",
    "    if count==27:\n",
    "        return True\n",
    "    else:\n",
    "        return False\n",
    "        "
   ]
  },
  {
   "cell_type": "code",
   "execution_count": 56,
   "metadata": {},
   "outputs": [
    {
     "data": {
      "text/plain": [
       "True"
      ]
     },
     "execution_count": 56,
     "metadata": {},
     "output_type": "execute_result"
    }
   ],
   "source": [
    "valid_sudoku(sudoku)"
   ]
  },
  {
   "cell_type": "code",
   "execution_count": 57,
   "metadata": {},
   "outputs": [],
   "source": [
    "def get_candidates(sudoku,pos):\n",
    "    list_cand=[]\n",
    "    row = get_row(sudoku,pos[0])\n",
    "    col = get_col(sudoku,pos[1])\n",
    "    block = get_block(sudoku,get_block_num(sudoku,pos))\n",
    "    for i in range(1,10):\n",
    "        if (i not in row)and(i not in col)and(i not in block):\n",
    "            list_cand.append(i)\n",
    "    return list_cand"
   ]
  },
  {
   "cell_type": "code",
   "execution_count": 58,
   "metadata": {},
   "outputs": [
    {
     "data": {
      "text/plain": [
       "[1, 2, 4]"
      ]
     },
     "execution_count": 58,
     "metadata": {},
     "output_type": "execute_result"
    }
   ],
   "source": [
    "get_candidates(sudoku,(1,3))"
   ]
  },
  {
   "cell_type": "code",
   "execution_count": 59,
   "metadata": {},
   "outputs": [],
   "source": [
    "def make_move(sudoku,pos,num):\n",
    "    sudoku[pos[0]-1][pos[1]-1] = num\n",
    "    return sudoku"
   ]
  },
  {
   "cell_type": "code",
   "execution_count": 60,
   "metadata": {},
   "outputs": [],
   "source": [
    "def undo_move(sudoku,pos):\n",
    "    sudoku[pos[0]-1][pos[1]-1] = 0\n",
    "    return sudoku"
   ]
  },
  {
   "cell_type": "code",
   "execution_count": 61,
   "metadata": {},
   "outputs": [],
   "source": [
    "def sudoku_solver(sudoku):        \n",
    "    if find_first_unassigned_position(sudoku)==(-1,-1):\n",
    "            return (True,sudoku)\n",
    "    else:\n",
    "        pos=find_first_unassigned_position(sudoku)\n",
    "        can= get_candidates(sudoku, pos)\n",
    "        for i in can:\n",
    "            sudoku=make_move(sudoku, pos, i)\n",
    "            if sudoku_solver(sudoku)[0] is True:\n",
    "                return (True,sudoku)\n",
    "            else:\n",
    "                sudoku=undo_move(sudoku,pos)\n",
    "                continue\n",
    "    return (False, sudoku)"
   ]
  },
  {
   "cell_type": "code",
   "execution_count": 62,
   "metadata": {},
   "outputs": [
    {
     "data": {
      "text/plain": [
       "[[5, 3, 0, 0, 7, 0, 0, 0, 0],\n",
       " [6, 0, 0, 1, 9, 5, 0, 0, 0],\n",
       " [0, 9, 8, 0, 0, 0, 0, 6, 0],\n",
       " [8, 0, 0, 0, 6, 0, 4, 2, 3],\n",
       " [4, 0, 0, 8, 0, 3, 0, 0, 1],\n",
       " [7, 0, 0, 0, 2, 0, 0, 0, 6],\n",
       " [0, 6, 0, 0, 0, 0, 2, 8, 0],\n",
       " [0, 0, 0, 4, 1, 9, 0, 0, 5],\n",
       " [0, 0, 0, 0, 8, 0, 0, 7, 9]]"
      ]
     },
     "execution_count": 62,
     "metadata": {},
     "output_type": "execute_result"
    }
   ],
   "source": [
    "sudoku #before solving"
   ]
  },
  {
   "cell_type": "code",
   "execution_count": 63,
   "metadata": {},
   "outputs": [
    {
     "data": {
      "text/plain": [
       "(True,\n",
       " [[5, 3, 4, 6, 7, 8, 9, 1, 2],\n",
       "  [6, 7, 2, 1, 9, 5, 3, 4, 8],\n",
       "  [1, 9, 8, 3, 4, 2, 5, 6, 7],\n",
       "  [8, 5, 9, 7, 6, 1, 4, 2, 3],\n",
       "  [4, 2, 6, 8, 5, 3, 7, 9, 1],\n",
       "  [7, 1, 3, 9, 2, 4, 8, 5, 6],\n",
       "  [9, 6, 1, 5, 3, 7, 2, 8, 4],\n",
       "  [2, 8, 7, 4, 1, 9, 6, 3, 5],\n",
       "  [3, 4, 5, 2, 8, 6, 1, 7, 9]])"
      ]
     },
     "execution_count": 63,
     "metadata": {},
     "output_type": "execute_result"
    }
   ],
   "source": [
    "sudoku_solver(sudoku)"
   ]
  },
  {
   "cell_type": "code",
   "execution_count": null,
   "metadata": {},
   "outputs": [],
   "source": []
  }
 ],
 "metadata": {
  "interpreter": {
   "hash": "ba37d69516b96b2df66115ef342e83722e1a1518f5d2e0ee41eb08141fa2fe2a"
  },
  "kernelspec": {
   "display_name": "Python 3.10.4 64-bit (windows store)",
   "language": "python",
   "name": "python3"
  },
  "language_info": {
   "codemirror_mode": {
    "name": "ipython",
    "version": 3
   },
   "file_extension": ".py",
   "mimetype": "text/x-python",
   "name": "python",
   "nbconvert_exporter": "python",
   "pygments_lexer": "ipython3",
   "version": "3.10.4"
  },
  "orig_nbformat": 4
 },
 "nbformat": 4,
 "nbformat_minor": 2
}
